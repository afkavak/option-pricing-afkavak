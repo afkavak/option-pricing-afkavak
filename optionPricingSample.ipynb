{
 "cells": [
  {
   "cell_type": "code",
   "execution_count": null,
   "metadata": {
    "collapsed": true
   },
   "outputs": [],
   "source": [
    "import numpy as np\n",
    "\n",
    "\n",
    "r = 0.05\n",
    "S0 = 100\n",
    "K = 110\n",
    "sigma = 0.1\n",
    "T = 1\n",
    "\n",
    "np.random.randn()\n",
    "\n",
    "EPOCH = 100000\n",
    "N = 12\n",
    "\n",
    "C = 0\n",
    "P = 0\n",
    "for i in range(EPOCH):\n",
    "    lst=[]\n",
    "    S = S0\n",
    "    for j in range(N):\n",
    "        WT = np.random.randn()*np.sqrt(T/N)\n",
    "        S = S*np.exp((r-0.5*sigma**2)*(T/N) + sigma*WT)\n",
    "        lst.append(S)\n",
    "    \n",
    "    S_max =max(lst)\n",
    "    \n",
    "    C += max(0, S_max - K)\n",
    "    P += max(0, K - S_max)\n",
    "\n",
    "call_price = (C/EPOCH)*np.exp(-r*T)\n",
    "put_price = (P/EPOCH)*np.exp(-r*T)\n",
    "\n",
    "print('Call price = ', call_price)\n",
    "print('Put price = ', put_price)"
   ]
  }
 ],
 "metadata": {
  "kernelspec": {
   "display_name": "Python 3",
   "language": "python",
   "name": "python3"
  },
  "language_info": {
   "codemirror_mode": {
    "name": "ipython",
    "version": 3
   },
   "file_extension": ".py",
   "mimetype": "text/x-python",
   "name": "python",
   "nbconvert_exporter": "python",
   "pygments_lexer": "ipython3",
   "version": "3.6.1"
  }
 },
 "nbformat": 4,
 "nbformat_minor": 2
}
